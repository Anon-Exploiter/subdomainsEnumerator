{
  "nbformat": 4,
  "nbformat_minor": 0,
  "metadata": {
    "colab": {
      "name": "Subdomains Enumeration tools",
      "provenance": [],
      "collapsed_sections": [],
      "authorship_tag": "ABX9TyPczRAchhbOfV2rIzjsFpKY",
      "include_colab_link": true
    },
    "kernelspec": {
      "name": "python3",
      "display_name": "Python 3"
    }
  },
  "cells": [
    {
      "cell_type": "markdown",
      "metadata": {
        "id": "view-in-github",
        "colab_type": "text"
      },
      "source": [
        "<a href=\"https://colab.research.google.com/github/Anon-Exploiter/subdomainsEnumerator/blob/master/Subdomains_Enumeration.ipynb\" target=\"_parent\"><img src=\"https://colab.research.google.com/assets/colab-badge.svg\" alt=\"Open In Colab\"/></a>"
      ]
    },
    {
      "cell_type": "code",
      "metadata": {
        "id": "djaqKWizgXiE"
      },
      "source": [
        "# Downloading and configuring all tools (instructions taken from Dockerfile)\n",
        "# Repository: https://github.com/Anon-Exploiter/subdomainsEnumerator\n",
        "\n",
        "!apt-get update -y && \\\n",
        "\tapt-get install -y wget python3 python3-pip unzip && \\\n",
        "\texport PATH=\"${PATH}:/root/bins/\"\n",
        "\n",
        "!cd && \\\n",
        "\tmkdir /root/Sublist3r && cd /root/Sublist3r && \\\n",
        "\twget https://raw.githubusercontent.com/aboul3la/Sublist3r/master/sublist3r.py -O sub.py && \\\n",
        "\tcat sub.py | sed 's/from subbrute import subbrute//i' > sublist3r.py && \\\n",
        "\tpip3 install argparse dnspython requests idna && \\\n",
        "\trm -rfv requirements.txt && rm -rfv sub.py\n",
        "\n",
        "!cd && \\\n",
        "\tmkdir OneForAll && cd OneForAll && \\\n",
        "\twget https://github.com/shmilylty/OneForAll/archive/v0.3.0.tar.gz && \\\n",
        "\ttar -xvf v0.3.0.tar.gz && \\\n",
        "\trm -rfv v0.3.0.tar.gz && \\\n",
        "\tmv OneForAll-0.3.0/* . && rm -rfv OneForAll-0.3.0 && \\\n",
        "\tpip3 install -r /root/OneForAll/requirements.txt\n",
        "\n",
        "!cd && \\\n",
        "\tmkdir massdns && cd massdns && \\\n",
        "\twget https://github.com/blechschmidt/massdns/archive/v0.3.tar.gz && \\\n",
        "\ttar -xvf v0.3.tar.gz && \\\n",
        "\trm -rfv v0.3.tar.gz && \\\n",
        "\tmv massdns-0.3/* . && \\\n",
        "\trm -rfv massdns-0.3 && \\\n",
        "\tmake\n",
        "\n",
        "!cd && \\\n",
        "\tmkdir bins && cd bins && \\\n",
        "\twget https://github.com/projectdiscovery/subfinder/releases/download/2.3.5/subfinder_2.3.5_linux_386.tar.gz && \\\n",
        "\twget https://github.com/tomnomnom/assetfinder/releases/download/v0.1.0/assetfinder-linux-amd64-0.1.0.tgz && \\\n",
        "\twget https://github.com/OWASP/Amass/releases/download/v3.7.2/amass_linux_amd64.zip && \\\n",
        "\twget https://github.com/Edu4rdSHL/findomain/releases/latest/download/findomain-linux\n",
        "\n",
        "!cd && \\\n",
        "\tcd bins && \\\n",
        "\ttar -xvf subfinder_2.3.5_linux_386.tar.gz && \\\n",
        "\ttar -xvf assetfinder-linux-amd64-0.1.0.tgz && \\\n",
        "\tunzip amass_linux_amd64.zip && \\\n",
        "\tchmod +x findomain-linux\n",
        "\n",
        "!cd && \\\n",
        "\tcd bins && \\\n",
        "\trm -rfv LICENSE README.md && \\\n",
        "\trm -rfv *.tgz *.zip *.tar.gz && \\\n",
        "\tmv amass_linux_amd64/amass . && \\\n",
        "\trm -rfv amass_linux_amd64\n",
        "\n",
        "!cd && \\\n",
        "\tmkdir results && \\\n",
        "\twget https://raw.githubusercontent.com/Anon-Exploiter/subdomainsEnumerator/master/automateSubdEnum.sh -O automateSubdEnum.sh"
      ],
      "execution_count": null,
      "outputs": []
    },
    {
      "cell_type": "code",
      "metadata": {
        "id": "FgbeQ1J-kHmw"
      },
      "source": [
        "# Running the tools \n",
        "\n",
        "!cd && \\\n",
        "    /bin/bash /root/automateSubdEnum.sh"
      ],
      "execution_count": null,
      "outputs": []
    }
  ]
}